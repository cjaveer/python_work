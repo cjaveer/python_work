{
 "cells": [
  {
   "cell_type": "code",
   "execution_count": 32,
   "metadata": {},
   "outputs": [
    {
     "name": "stdout",
     "output_type": "stream",
     "text": [
      "[2002, 2009, 2016, 2023, 2037, 2044, 2051, 2058, 2072, 2079, 2086, 2093, 2107, 2114, 2121, 2128, 2142, 2149, 2156, 2163, 2177, 2184, 2191, 2198, 2212, 2219, 2226, 2233, 2247, 2254, 2261, 2268, 2282, 2289, 2296, 2303, 2317, 2324, 2331, 2338, 2352, 2359, 2366, 2373, 2387, 2394, 2401, 2408, 2422, 2429, 2436, 2443, 2457, 2464, 2471, 2478, 2492, 2499, 2506, 2513, 2527, 2534, 2541, 2548, 2562, 2569, 2576, 2583, 2597, 2604, 2611, 2618, 2632, 2639, 2646, 2653, 2667, 2674, 2681, 2688, 2702, 2709, 2716, 2723, 2737, 2744, 2751, 2758, 2772, 2779, 2786, 2793, 2807, 2814, 2821, 2828, 2842, 2849, 2856, 2863, 2877, 2884, 2891, 2898, 2912, 2919, 2926, 2933, 2947, 2954, 2961, 2968, 2982, 2989, 2996, 3003, 3017, 3024, 3031, 3038, 3052, 3059, 3066, 3073, 3087, 3094, 3101, 3108, 3122, 3129, 3136, 3143, 3157, 3164, 3171, 3178, 3192, 3199]\n"
     ]
    }
   ],
   "source": [
    "#list of numbers between 2000 to 3200\n",
    "x=list(range(2000,3201))\n",
    "#created list to store result\n",
    "result=[]\n",
    "#Iterating over list to check condition of devisibile of 7 and not multiplies of 5\n",
    "for num in x:\n",
    "    if(num%7==0 and num%5!=0):\n",
    "     #adding result to list\n",
    "     result.append(num)\n",
    "#display result comma separated sequence in single line        \n",
    "print(result)"
   ]
  },
  {
   "cell_type": "code",
   "execution_count": 47,
   "metadata": {},
   "outputs": [
    {
     "name": "stdout",
     "output_type": "stream",
     "text": [
      "Enter your name:chandra\n",
      "Enter surname:javeer\n",
      "javeer chandra\n"
     ]
    }
   ],
   "source": [
    "#taking first input\n",
    "name =input(\"Enter your name:\")\n",
    "#taking second input\n",
    "surname=input(\"Enter surname:\")\n",
    "#creating single string from both inputs with space\n",
    "generated_string = name+\" \"+surname\n",
    "#splitting string \n",
    "inter_string=generated_string.split()\n",
    "#reverse string\n",
    "inter_string.reverse()\n",
    "final_result=\" \".join(inter_string)\n",
    "print(final_result)"
   ]
  },
  {
   "cell_type": "code",
   "execution_count": 60,
   "metadata": {},
   "outputs": [
    {
     "name": "stdout",
     "output_type": "stream",
     "text": [
      "904.7779199999999\n"
     ]
    }
   ],
   "source": [
    "#programe to calculate volume of sphere\n",
    "pi=3.14159 #Value for pi\n",
    "d=12.0 # Value of provided diameter\n",
    "r=d/2.0 #Calculated radius from diameter\n",
    "volume = 4.0/3.0*pi* radius**3 #Calcualting Volume of sphere based on diameter\n",
    "print(volume)"
   ]
  },
  {
   "cell_type": "code",
   "execution_count": 65,
   "metadata": {},
   "outputs": [
    {
     "name": "stdout",
     "output_type": "stream",
     "text": [
      "Enter Number of element to be present in list:5\n",
      "4\n",
      "[4]\n",
      "7\n",
      "[4, 7]\n",
      "9\n",
      "[4, 7, 9]\n",
      "4\n",
      "[4, 7, 9, 4]\n",
      "1\n",
      "[4, 7, 9, 4, 1]\n"
     ]
    }
   ],
   "source": [
    "# created result list to store element\n",
    "result_list=[]\n",
    "#Number of elements to be present in list till the range\n",
    "k=int(input(\"Enter Number of element to be present in list:\"))\n",
    "#Iterating over the list\n",
    "for i in range(0,k):\n",
    "    #Adding elements in list\n",
    "    ele=int(input())\n",
    "    result_list.append(ele)\n",
    "    #Display list\n",
    "    print(result_list)\n",
    "    "
   ]
  },
  {
   "cell_type": "code",
   "execution_count": 75,
   "metadata": {},
   "outputs": [
    {
     "name": "stdout",
     "output_type": "stream",
     "text": [
      "Enter maximum number of stars to be displayed in single line:6\n",
      "* \n",
      "* * \n",
      "* * * \n",
      "* * * * \n",
      "* * * * * \n",
      "* * * * * * \n",
      "* * * * * \n",
      "* * * * \n",
      "* * * \n",
      "* * \n",
      "* \n",
      "\n"
     ]
    }
   ],
   "source": [
    "#pattern creation\n",
    "#taking input for pattern\n",
    "rows=input(\"Enter maximum number of stars to be displayed in single line:\")\n",
    "rows=int(rows)\n",
    "#Iterating over in range of input\n",
    "for i in range(0,rows):\n",
    "    for j in range(0,i+1):\n",
    "        print(\"*\",end=' ')\n",
    "    print(\"\\r\")    \n",
    "for i in range(rows,0,-1):\n",
    "    for j in range(0,i-1):\n",
    "        print(\"*\",end=' ')\n",
    "    print(\"\\r\")"
   ]
  },
  {
   "cell_type": "code",
   "execution_count": 81,
   "metadata": {},
   "outputs": [
    {
     "name": "stdout",
     "output_type": "stream",
     "text": [
      "Enter word to get reverse:banglore\n",
      "erolgnab\n"
     ]
    }
   ],
   "source": [
    "#Reverse Word\n",
    "#Taking input word\n",
    "word = input(\"Enter word to get reverse:\")\n",
    "#Print result\n",
    "print(word[::-1])"
   ]
  },
  {
   "cell_type": "code",
   "execution_count": 80,
   "metadata": {},
   "outputs": [
    {
     "name": "stdout",
     "output_type": "stream",
     "text": [
      "WE, THE PEOPLE OF INDIA, having solemnly resolved to constitute India into a SOVEREIGN, !SOCIALIST, SECULAR, DEMOCRATIC REPUBLIC and to secure to all its citizens \n"
     ]
    }
   ],
   "source": [
    "#Adding input string\n",
    "input_string =\"WE, THE PEOPLE OF INDIA, having solemnly resolved to constitute India into a SOVEREIGN, SOCIALIST, SECULAR, DEMOCRATIC REPUBLIC and to secure to all its citizens \"\n",
    "#Find location to add character\n",
    "inline = s.find(\"SOCIALIST\")\n",
    "#Generate output with respective logic\n",
    "output = s[:inline]+\"!\"+s[inline:]\n",
    "print(output)"
   ]
  },
  {
   "cell_type": "code",
   "execution_count": null,
   "metadata": {},
   "outputs": [],
   "source": []
  }
 ],
 "metadata": {
  "kernelspec": {
   "display_name": "Python 3",
   "language": "python",
   "name": "python3"
  },
  "language_info": {
   "codemirror_mode": {
    "name": "ipython",
    "version": 3
   },
   "file_extension": ".py",
   "mimetype": "text/x-python",
   "name": "python",
   "nbconvert_exporter": "python",
   "pygments_lexer": "ipython3",
   "version": "3.6.5"
  }
 },
 "nbformat": 4,
 "nbformat_minor": 2
}

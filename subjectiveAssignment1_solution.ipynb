{
 "cells": [
  {
   "cell_type": "code",
   "execution_count": 11,
   "metadata": {},
   "outputs": [
    {
     "name": "stdout",
     "output_type": "stream",
     "text": [
      "Enter String to change:prospect\n",
      "Expected Result: pros$ect\n"
     ]
    }
   ],
   "source": [
    "#Take input string to change\n",
    "input_string = str(input(\"Enter String to change:\"))\n",
    "#take starting character and replace occurance peresent in remaining characters of string\n",
    "change_string=input_string[0]+input_string[1:].replace(input_string[0],\"$\")\n",
    "#Print Results\n",
    "print(\"Expected Result:\",change_string)\n"
   ]
  },
  {
   "cell_type": "code",
   "execution_count": 12,
   "metadata": {},
   "outputs": [
    {
     "name": "stdout",
     "output_type": "stream",
     "text": [
      "Enter first string s1: abc\n",
      "Enter first string s2: xyz\n",
      "Expected Result : xyc abz\n"
     ]
    }
   ],
   "source": [
    "#Take first String\n",
    "s1 = str(input(\"Enter first string s1: \"))\n",
    "#Take second String\n",
    "s2 = str(input(\"Enter first string s2: \"))\n",
    "#Format String s1 for result\n",
    "s1_result_string=s1.replace(s1[0:2],s2[0:2])\n",
    "#Format String s2 for result\n",
    "s2_result_string=s2.replace(s2[0:2],s1[0:2])\n",
    "#Resulted Final formatted string\n",
    "result_formatted_string = s1_result_string+\" \"+s2_result_string\n",
    "print(\"Expected Result :\",result_formatted_string)\n"
   ]
  },
  {
   "cell_type": "code",
   "execution_count": 20,
   "metadata": {},
   "outputs": [
    {
     "name": "stdout",
     "output_type": "stream",
     "text": [
      "Enter String to change:abc\n",
      "Expected Result: abcing\n"
     ]
    }
   ],
   "source": [
    "#Take String as input\n",
    "sample = str(input(\"Enter String to change:\"))\n",
    "#Calculate String length to process\n",
    "str_len = len(sample)\n",
    "#Adding String change conditions\n",
    "if(str_len<3):\n",
    "    print(\"Expected Result:\",sample)\n",
    "elif(str_len>3 and sample[:-4:-1]==\"gni\"):\n",
    "        print(\"Expected Result:\",sample.replace(\"ing\",\"ly\"))\n",
    "else:\n",
    "            print(\"Expected Result:\",sample+\"ing\")"
   ]
  },
  {
   "cell_type": "code",
   "execution_count": 3,
   "metadata": {},
   "outputs": [
    {
     "name": "stdout",
     "output_type": "stream",
     "text": [
      "Enter String to search find words:The lyrics are not that poor!\n",
      "Expected Result is : The lyrics are good!\n"
     ]
    }
   ],
   "source": [
    "#Take String as input to find occurance of poor and not\n",
    "sample = str(input(\"Enter String to search find words:\"))\n",
    "#Find for word 'not' in string\n",
    "str1 = sample.find('not')\n",
    "#Find for word 'poor' in string\n",
    "str2 = sample.find('poor')\n",
    "#Check string condition\n",
    "if str2>str1 and str1>0 and str2>0:\n",
    "    #Replace occurance of word \n",
    "    sample=sample.replace(sample[str1:(str2+4)],'good')\n",
    "    #print result\n",
    "    print(\"Expected Result is :\",sample)\n",
    "else:\n",
    "    print(\"Expected Result is:\",sample)"
   ]
  },
  {
   "cell_type": "code",
   "execution_count": 7,
   "metadata": {},
   "outputs": [
    {
     "name": "stdout",
     "output_type": "stream",
     "text": [
      "Enter String :abcdef\n",
      "Expected Result: ace\n"
     ]
    }
   ],
   "source": [
    "#Take String as input to remove odd index character\n",
    "sample_string=str(input(\"Enter String :\"))\n",
    "#variable to store result\n",
    "sample_result=\"\"\n",
    "for i in range(len(sample_string)):\n",
    "    if(i%2==0):\n",
    "        sample_result=sample_result+sample_string[i]\n",
    "print(\"Expected Result:\",sample_result)"
   ]
  },
  {
   "cell_type": "code",
   "execution_count": 1,
   "metadata": {},
   "outputs": [
    {
     "name": "stdout",
     "output_type": "stream",
     "text": [
      "Expected Result is: 5.56\n"
     ]
    }
   ],
   "source": [
    "#Number to get formatted for decimal\n",
    "in_number=5.563498\n",
    "#Generate Expected Results\n",
    "expected_result = print(\"Expected Result is: \"+\"{:.2f}\".format(in_number))"
   ]
  },
  {
   "cell_type": "code",
   "execution_count": 4,
   "metadata": {},
   "outputs": [
    {
     "name": "stdout",
     "output_type": "stream",
     "text": [
      "Expected Result is: 43.00%\n"
     ]
    }
   ],
   "source": [
    "#Number to format in percentage\n",
    "num1 = 0.43\n",
    "#Expected Result\n",
    "num1_result = print(\"Expected Result is: \"+\"{:.2%}\".format(num1))\n"
   ]
  },
  {
   "cell_type": "code",
   "execution_count": 5,
   "metadata": {},
   "outputs": [
    {
     "name": "stdout",
     "output_type": "stream",
     "text": [
      "Enter Input String :Hello World welcome to python\n",
      "Enter Substring to search occurances in input string:to\n",
      "Expected Result with count of substring is : 1\n"
     ]
    }
   ],
   "source": [
    "#Take input string \n",
    "in_str=str(input(\"Enter Input String :\"))\n",
    "#Take substring to find occurances\n",
    "in_substr=str(input(\"Enter Substring to search occurances in input string:\"))\n",
    "#Expected result with count occurances of substring\n",
    "print(\"Expected Result with count of substring is :\",in_str.count(in_substr))"
   ]
  },
  {
   "cell_type": "code",
   "execution_count": 5,
   "metadata": {},
   "outputs": [
    {
     "name": "stdout",
     "output_type": "stream",
     "text": [
      "Enter Input String :thequickbrownjumpsoverthelazydog\n",
      "e 3\n",
      "o 3\n",
      "t 2\n",
      "h 2\n",
      "u 2\n",
      "r 2\n"
     ]
    }
   ],
   "source": [
    "#Count repeated characters in string\n",
    "import collections \n",
    "#Take input string \n",
    "input_str=str(input(\"Enter Input String :\"))\n",
    "itr = collections.defaultdict(int)\n",
    "for i in input_str:\n",
    "    itr[i] +=1\n",
    "    \n",
    "for i in sorted(itr,key=itr.get,reverse=True):\n",
    "    if itr[i] >1:\n",
    "        print('%s %d' %(i,itr[i]))\n",
    "\n",
    "\n"
   ]
  },
  {
   "cell_type": "code",
   "execution_count": 7,
   "metadata": {},
   "outputs": [
    {
     "name": "stdout",
     "output_type": "stream",
     "text": [
      "The Area of rectangle is  1256.66cm²\n",
      "The Volume of cylinder is  1254.725cm³\n"
     ]
    }
   ],
   "source": [
    "#Program to print symbol for area of square and volume of cylinder\n",
    "area_of_rectangle=1256.66\n",
    "volume_of_cylinder=1254.725\n",
    "decimals=2\n",
    "print(\"The Area of rectangle is  {0:.{1}f}cm\\u00b2\".format(area_of_rectangle,decimals))\n",
    "decimals=3\n",
    "print(\"The Volume of cylinder is  {0:.{1}f}cm\\u00b3\".format(volume_of_cylinder,decimals))"
   ]
  },
  {
   "cell_type": "code",
   "execution_count": 20,
   "metadata": {},
   "outputs": [
    {
     "name": "stdout",
     "output_type": "stream",
     "text": [
      "True\n",
      "False\n"
     ]
    }
   ],
   "source": [
    "#Program to check if string contain all letters of alphbet\n",
    "import string\n",
    "alphabet_check=set(string.ascii_lowercase)\n",
    "input_str='abcdefghijklmnopqrstuvwxyz'\n",
    "print(set(input_str.lower())>=alphabet_check)\n",
    "input_str='abcdefgijkmnoprstuvwxyz'\n",
    "print(set(input_str.lower())>=alphabet_check)"
   ]
  },
  {
   "cell_type": "code",
   "execution_count": 47,
   "metadata": {},
   "outputs": [
    {
     "name": "stdout",
     "output_type": "stream",
     "text": [
      "Enter string to count words :my name is is my name\n",
      "[('my', 2), ('name', 2), ('is', 2)]\n"
     ]
    }
   ],
   "source": [
    "#Python program to find second most repeated word in given string\n",
    "sample_str=str(input(\"Enter string to count words :\"))\n",
    "counts = dict()\n",
    "words = sample_str.split()\n",
    "\n",
    "for word in words:\n",
    "    if word in counts:\n",
    "        counts[word]+=1\n",
    "    else :\n",
    "        counts[word]=1\n",
    "count_word = sorted(counts.items(), key=lambda kv: kv[1])\n",
    "print(count_word)\n",
    "    \n",
    "    "
   ]
  },
  {
   "cell_type": "code",
   "execution_count": 53,
   "metadata": {},
   "outputs": [
    {
     "name": "stdout",
     "output_type": "stream",
     "text": [
      "Input string 1:PRWSOERIUSFK\n",
      "Input string 2:OSU\n",
      "Input : string1 = PRWSOERIUSFK \n",
      " string2 = OSU\n",
      "Output: Minimum window is OERIUS\n"
     ]
    }
   ],
   "source": [
    "#Program to find minimum window of given characters\n",
    "import collections\n",
    "def min_window(sample_str1, sample_str2):\n",
    "    result_char, missing_char = collections.Counter(sample_str2), len(sample_str2)\n",
    "    i = j = k = 0\n",
    "    for b, c in enumerate(sample_str1, 1):\n",
    "        missing_char -= result_char[c] > 0\n",
    "        result_char[c] -= 1\n",
    "        if not missing_char:\n",
    "            while i < k and result_char[sample_str1[i]] < 0:\n",
    "                result_char[sample_str1[i]] += 1\n",
    "                i += 1\n",
    "            if not k or b - i <= k - j:\n",
    "                j, k = i, b\n",
    "    return str1[j:k]\n",
    "\n",
    "\n",
    "sample_str1 = str(input(\"Input string 1:\"))\n",
    "sample_str2 = str(input(\"Input string 2:\"))\n",
    "print(\"Input : string1 =\",sample_str1,\"\\n string2 =\",sample_str2)\n",
    "print(\"Output: Minimum window is\",min_window(sample_str1,sample_str2))\n",
    "    \n"
   ]
  },
  {
   "cell_type": "code",
   "execution_count": 54,
   "metadata": {},
   "outputs": [
    {
     "name": "stdout",
     "output_type": "stream",
     "text": [
      "Input string in lower case :wolf\n",
      "Input k :4\n",
      "Number of substrings with exactly 4 distinct characters : 1\n"
     ]
    }
   ],
   "source": [
    "#Program program to count number of substrings from a given string of lowercase alphabets with exactly k distinct (given) characters\n",
    "\n",
    "def count_dist_char(sample1,k):\n",
    "    str_len=len(sample1)\n",
    "    result = 0\n",
    "    ctr=[0]*27\n",
    "    for i in range(0,str_len):\n",
    "        dist_ctr=0\n",
    "        ctr= [0] * 27\n",
    "        for j in range (i,str_len):\n",
    "            if(ctr[ord(sample1[j])-97] ==0):\n",
    "                dist_ctr+=1\n",
    "            ctr[ord(sample1[j])-97] +=1\n",
    "            if(dist_ctr==k):\n",
    "                result+=1\n",
    "            if(dist_ctr>k):\n",
    "                break\n",
    "                \n",
    "    return result \n",
    "\n",
    "sample1 = str(input(\"Input string in lower case :\"))\n",
    "k = int(input(\"Input k :\"))\n",
    "print(\"Number of substrings with exactly\", k, \"distinct characters : \", end = \"\") \n",
    "print(count_dist_char(sample1, k))\n",
    "                \n",
    "        \n",
    "    \n",
    "    "
   ]
  },
  {
   "cell_type": "code",
   "execution_count": 58,
   "metadata": {},
   "outputs": [
    {
     "name": "stdout",
     "output_type": "stream",
     "text": [
      "Enter input string :abcd\n",
      "4\n"
     ]
    }
   ],
   "source": [
    "#program to count number of substrings with same first and last characters of the given string\n",
    "\n",
    "str1 = str(input(\"Enter input string :\"))\n",
    "result=0\n",
    "str_len=len(str1)\n",
    "for i in range(str_len):\n",
    "    for j in range(str_len):\n",
    "        if(str1[i]==str1[j]):\n",
    "            result=result+1\n",
    "print(result)          \n",
    "            "
   ]
  }
 ],
 "metadata": {
  "kernelspec": {
   "display_name": "Python 3",
   "language": "python",
   "name": "python3"
  },
  "language_info": {
   "codemirror_mode": {
    "name": "ipython",
    "version": 3
   },
   "file_extension": ".py",
   "mimetype": "text/x-python",
   "name": "python",
   "nbconvert_exporter": "python",
   "pygments_lexer": "ipython3",
   "version": "3.7.4"
  }
 },
 "nbformat": 4,
 "nbformat_minor": 2
}
